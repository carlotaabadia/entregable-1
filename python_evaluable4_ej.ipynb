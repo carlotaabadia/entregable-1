{
  "cells": [
    {
      "cell_type": "markdown",
      "metadata": {
        "id": "9wLOAY9C46ge"
      },
      "source": [
        "# <font color=red> Nota:  </font>"
      ]
    },
    {
      "cell_type": "markdown",
      "metadata": {
        "id": "uJDBoKAc46gg"
      },
      "source": [
        "Después de crear la librería debes importarla para resolver los siguientes problemas:\n",
        "\n",
        "# <font color=olive> Ejercicio P4-1 </font> <span style=\"color:transparent\"> EjP4.1 </span>\n",
        "Se consideran cinco puntos de coordenadas P(1,-1,2) Q(-2,2,3) R(-3,3,3) S(-3,3,0) y T(-3,4,3). Determina si forman parte del mismo plano\n"
      ]
    },
    {
      "cell_type": "code",
      "execution_count": 1,
      "metadata": {
        "id": "NaqRT7FV46gh"
      },
      "outputs": [],
      "source": [
        "import numpy as np"
      ]
    },
    {
      "cell_type": "code",
      "source": [
        "def estan_en_mismo_plano(puntos):\n",
        "    # Convertir puntos a vectores\n",
        "    vectores = [np.array(puntos[i]) - np.array(puntos[0]) for i in range(1, 4)]\n",
        "\n",
        "    # Calcular el volumen del paralelepípedo formado por los vectores\n",
        "    matriz = np.vstack(vectores)\n",
        "    volumen = np.linalg.det(matriz)\n",
        "    # Si el volumen es cero, los puntos están en el mismo plano\n",
        "    return np.isclose(volumen, 0)"
      ],
      "metadata": {
        "id": "oJLoR1sK5XC1"
      },
      "execution_count": 11,
      "outputs": []
    },
    {
      "cell_type": "code",
      "source": [
        "# Ejemplo de uso\n",
        "puntos = [np.array([1, -1, 2]), np.array([-2, 2, 3]), np.array([-3, 3, 3]),\n",
        "          np.array([-3, 3, 0]), np.array([-3, 4, 3])]\n",
        "estan_en_mismo_plano(puntos)"
      ],
      "metadata": {
        "colab": {
          "base_uri": "https://localhost:8080/"
        },
        "id": "fvyQKXYW5ZU8",
        "outputId": "5f22d87c-af17-4bbf-9df3-b379fe5d980f"
      },
      "execution_count": 12,
      "outputs": [
        {
          "output_type": "execute_result",
          "data": {
            "text/plain": [
              "True"
            ]
          },
          "metadata": {},
          "execution_count": 12
        }
      ]
    },
    {
      "cell_type": "markdown",
      "metadata": {
        "id": "tbNg6y8r46gi"
      },
      "source": [
        "# <font color=olive> Ejercicio P4-2 </font> <span style=\"color:transparent\"> EjP4.2 </span>\n",
        "Comprobar que los vectores a =(1,1,3) b =(-1,2,0) y c =(1,3,5) son linealmente dependientes. Encontrar la ecuación del plano que contiene a esos vectores y al punto Q(-1,0,1).\n",
        "\n",
        "Dada la recta r determinada por los puntos A(1,1,1) y B(3,1,2) y la recta:\n",
        "\n",
        "\\begin{equation*}\n",
        "s ≡ \\biggl\\{\n",
        "      \\begin{align*}\n",
        "      x - 2z  -1 = 0\\\\\n",
        "      y - 2 = 0\n",
        "      \\end{align*}\n",
        "\\end{equation*}\n",
        "\n",
        "averigua su posición relativa y halla, si existe, el plano que las contiene."
      ]
    },
    {
      "cell_type": "code",
      "execution_count": 5,
      "metadata": {
        "id": "x7v3Ywv946gi"
      },
      "outputs": [],
      "source": [
        "def vectores_dependientes_y_plano(vectores, punto):\n",
        "    # Comprobar si los vectores son linealmente dependientes\n",
        "    dependientes = np.isclose(np.linalg.det(vectores), 0)\n",
        "\n",
        "    # Calcular la ecuación del plano\n",
        "    normal = np.cross(vectores[0], vectores[1])\n",
        "    d = -np.dot(normal, punto)\n",
        "\n",
        "    # La ecuación del plano es ax + by + cz + d = 0\n",
        "    ecuacion_plano = f\"{normal[0]}x + {normal[1]}y + {normal[2]}z + {d} = 0\"\n",
        "\n",
        "    return dependientes, ecuacion_plano"
      ]
    },
    {
      "cell_type": "code",
      "source": [
        "# Ejemplo de uso\n",
        "vectores = [np.array([1, 1, 3]), np.array([-1, 2, 0]), np.array([1, 3, 5])]\n",
        "punto = np.array([-1, 0, 1])\n",
        "vectores_dependientes_y_plano(vectores, punto)"
      ],
      "metadata": {
        "colab": {
          "base_uri": "https://localhost:8080/"
        },
        "id": "hZxaSg1l5gMM",
        "outputId": "4c88d897-1da7-4347-adeb-f61f22bf254e"
      },
      "execution_count": 6,
      "outputs": [
        {
          "output_type": "execute_result",
          "data": {
            "text/plain": [
              "(True, '-6x + -3y + 3z + -9 = 0')"
            ]
          },
          "metadata": {},
          "execution_count": 6
        }
      ]
    },
    {
      "cell_type": "markdown",
      "metadata": {
        "id": "f9AW0Ndb46gi"
      },
      "source": [
        "# <font color=olive> Ejercicio P4-3 </font> <span style=\"color:transparent\"> EjP4.3 </span>\n",
        "\n",
        "Dados el punto P(2,1,1) y la recta\n",
        "\\begin{equation*}\n",
        "s ≡ \\Biggl\\{\n",
        "      \\begin{align*}\n",
        "      x = 2+t\\\\\n",
        "      y = 3-t \\\\\n",
        "      z = 4 -3t\n",
        "      \\end{align*}\n",
        "\\end{equation*}\n",
        "\n",
        "encuentra la ecuación del plano que contiene a ambos"
      ]
    },
    {
      "cell_type": "code",
      "execution_count": 18,
      "metadata": {
        "id": "_66v9WLf46gi"
      },
      "outputs": [],
      "source": [
        "def plano_con_punto_y_recta(punto, vector_director):\n",
        "    # El vector normal al plano es el cruz entre el vector director y (punto - punto en la recta)\n",
        "    punto_en_recta = vector_director[0]  # Asumimos que el primer elemento es un punto en la recta\n",
        "    normal = np.cross(vector_director[1], punto - punto_en_recta)\n",
        "\n",
        "    # La ecuación del plano es ax + by + cz + d = 0\n",
        "    d = -np.dot(normal, punto)\n",
        "    ecuacion_plano = f\"{normal[0]}x + {normal[1]}y + {normal[2]}z + {d} = 0\"\n",
        "\n",
        "    return ecuacion_plano"
      ]
    },
    {
      "cell_type": "code",
      "source": [
        "# Ejemplo de uso\n",
        "punto = np.array([2, 1, 1])\n",
        "vector_director = [np.array([2, 3, 4]), np.array([1, -1, -3])]  # Punto en la recta y vector director\n",
        "plano_con_punto_y_recta(punto, vector_director)"
      ],
      "metadata": {
        "colab": {
          "base_uri": "https://localhost:8080/",
          "height": 35
        },
        "id": "xBt2Klui5niE",
        "outputId": "3980dac1-d0af-4ef9-f406-17066b4da14f"
      },
      "execution_count": 19,
      "outputs": [
        {
          "output_type": "execute_result",
          "data": {
            "text/plain": [
              "'-3x + 3y + -2z + 5 = 0'"
            ],
            "application/vnd.google.colaboratory.intrinsic+json": {
              "type": "string"
            }
          },
          "metadata": {},
          "execution_count": 19
        }
      ]
    },
    {
      "cell_type": "markdown",
      "metadata": {
        "id": "cYnGCrF-46gi"
      },
      "source": [
        "# <font color=olive> Ejercicio P4-4 </font> <span style=\"color:transparent\"> EjP4.4 </span>\n",
        "\n",
        "Halla el punto del plano de ecuación $\\pi$ ≡ x − z = 3 que está más cerca del punto P(3,1,4), así como la distancia entre el punto P y el plano."
      ]
    },
    {
      "cell_type": "code",
      "source": [
        "\n",
        "#adaptamos lf(x) del primer ejercicio\n",
        "def estan_en_mismo_plano(puntos):\n",
        "    vectores = [np.array(puntos[i]) - np.array(puntos[0]) for i in range(1, 4)]\n",
        "    matriz = np.vstack(vectores)\n",
        "    volumen = np.linalg.det(matriz)\n",
        "    return np.isclose(volumen, 0)\n",
        "\n",
        "# Usar la función con los puntos dados\n",
        "puntos = [[1, -1, 2], [-2, 2, 3], [-3, 3, 3], [-3, 3, 0], [-3, 4, 3]]\n",
        "estan_en_mismo_plano(puntos)"
      ],
      "metadata": {
        "colab": {
          "base_uri": "https://localhost:8080/"
        },
        "id": "tdg-wr4z6x78",
        "outputId": "5d42c30c-f5d6-4c46-d36c-a9161e96a203"
      },
      "execution_count": 23,
      "outputs": [
        {
          "output_type": "execute_result",
          "data": {
            "text/plain": [
              "True"
            ]
          },
          "metadata": {},
          "execution_count": 23
        }
      ]
    },
    {
      "cell_type": "code",
      "execution_count": 24,
      "metadata": {
        "id": "WFuZ7_Ka46gj"
      },
      "outputs": [],
      "source": [
        "def punto_mas_cercano_y_distancia(punto, ecuacion_plano):\n",
        "    # Extraer coeficientes de la ecuación del plano\n",
        "    ecuacion_plano = ecuacion_plano.replace('x', '').replace('y', '').replace('z', '')\n",
        "    a, b, c, d = map(float, ecuacion_plano.split())\n",
        "\n",
        "    # Calcular el punto más cercano en el plano\n",
        "    normal = np.array([a, b, c])\n",
        "    t = (np.dot(normal, punto) + d) / np.dot(normal, normal)\n",
        "    punto_mas_cercano = punto - t * normal\n",
        "\n",
        "    # Calcular la distancia entre el punto y el plano\n",
        "    distancia = np.linalg.norm(punto_mas_cercano - punto)\n",
        "\n",
        "    return punto_mas_cercano, distancia"
      ]
    },
    {
      "cell_type": "code",
      "source": [
        "# Ejemplo de uso\n",
        "punto = np.array([3, 1, 4])\n",
        "ecuacion_plano = \"1 0 -1 -3\"  # Coeficientes para la ecuación x - z = 3\n",
        "punto_mas_cercano_y_distancia(punto, ecuacion_plano)"
      ],
      "metadata": {
        "colab": {
          "base_uri": "https://localhost:8080/"
        },
        "id": "kRlsxr735r5_",
        "outputId": "e05bd67b-c10f-460b-bfeb-e80fa5e464ca"
      },
      "execution_count": 26,
      "outputs": [
        {
          "output_type": "execute_result",
          "data": {
            "text/plain": [
              "(array([5., 1., 2.]), 2.8284271247461903)"
            ]
          },
          "metadata": {},
          "execution_count": 26
        }
      ]
    },
    {
      "cell_type": "markdown",
      "metadata": {
        "id": "hBdjvANG46gj"
      },
      "source": [
        "# <font color=red> Copyright </font>\n",
        "\n",
        "$\\copyright$ Copyright 2012 Eloy Anguiano Rey - All rights reserved\n",
        "\n",
        "Queda expresamente prohibida la copia, distribución, modificación o cualquier otro uso de este documento sin permiso del autor."
      ]
    }
  ],
  "metadata": {
    "kernelspec": {
      "display_name": "Python 3.8.10 64-bit",
      "language": "python",
      "name": "python3"
    },
    "language_info": {
      "codemirror_mode": {
        "name": "ipython",
        "version": 3
      },
      "file_extension": ".py",
      "mimetype": "text/x-python",
      "name": "python",
      "nbconvert_exporter": "python",
      "pygments_lexer": "ipython3",
      "version": "3.8.10"
    },
    "orig_nbformat": 4,
    "vscode": {
      "interpreter": {
        "hash": "e7370f93d1d0cde622a1f8e1c04877d8463912d04d973331ad4851f04de6915a"
      }
    },
    "colab": {
      "provenance": []
    }
  },
  "nbformat": 4,
  "nbformat_minor": 0
}