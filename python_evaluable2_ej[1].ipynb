{
  "cells": [
    {
      "cell_type": "markdown",
      "metadata": {
        "id": "rNH3NM5CpyyH"
      },
      "source": [
        "# <font color=red> Nota:  </font>"
      ]
    },
    {
      "cell_type": "markdown",
      "metadata": {
        "id": "SsNBhHmXpyyJ"
      },
      "source": [
        "# <font color=olive> Ejercicio P2-1 </font> <span style=\"color:transparent\"> EjP2.1 </span>\n",
        "Escribe un programa que lea words.txt e imprima sólo las palabras con más de 20 caracteres (sin contar los espacios en blanco)."
      ]
    },
    {
      "cell_type": "code",
      "source": [
        "archivo = \"word[1].txt\""
      ],
      "metadata": {
        "id": "baQ1OJEKp8Wd"
      },
      "execution_count": 14,
      "outputs": []
    },
    {
      "cell_type": "code",
      "source": [
        "#Paralelamente puedes subirlo tu manualmente:\n",
        "\n",
        "from google.colab import files\n",
        "\n",
        "# Subir el archivo\n",
        "uploaded = files.upload()"
      ],
      "metadata": {
        "colab": {
          "base_uri": "https://localhost:8080/",
          "height": 73
        },
        "id": "IhfHpqNTrwfV",
        "outputId": "4e370d08-a404-4c43-9f4f-1fab10723b4c"
      },
      "execution_count": 10,
      "outputs": [
        {
          "output_type": "display_data",
          "data": {
            "text/plain": [
              "<IPython.core.display.HTML object>"
            ],
            "text/html": [
              "\n",
              "     <input type=\"file\" id=\"files-971dd587-b0aa-4226-aaff-a5be511a31ab\" name=\"files[]\" multiple disabled\n",
              "        style=\"border:none\" />\n",
              "     <output id=\"result-971dd587-b0aa-4226-aaff-a5be511a31ab\">\n",
              "      Upload widget is only available when the cell has been executed in the\n",
              "      current browser session. Please rerun this cell to enable.\n",
              "      </output>\n",
              "      <script>// Copyright 2017 Google LLC\n",
              "//\n",
              "// Licensed under the Apache License, Version 2.0 (the \"License\");\n",
              "// you may not use this file except in compliance with the License.\n",
              "// You may obtain a copy of the License at\n",
              "//\n",
              "//      http://www.apache.org/licenses/LICENSE-2.0\n",
              "//\n",
              "// Unless required by applicable law or agreed to in writing, software\n",
              "// distributed under the License is distributed on an \"AS IS\" BASIS,\n",
              "// WITHOUT WARRANTIES OR CONDITIONS OF ANY KIND, either express or implied.\n",
              "// See the License for the specific language governing permissions and\n",
              "// limitations under the License.\n",
              "\n",
              "/**\n",
              " * @fileoverview Helpers for google.colab Python module.\n",
              " */\n",
              "(function(scope) {\n",
              "function span(text, styleAttributes = {}) {\n",
              "  const element = document.createElement('span');\n",
              "  element.textContent = text;\n",
              "  for (const key of Object.keys(styleAttributes)) {\n",
              "    element.style[key] = styleAttributes[key];\n",
              "  }\n",
              "  return element;\n",
              "}\n",
              "\n",
              "// Max number of bytes which will be uploaded at a time.\n",
              "const MAX_PAYLOAD_SIZE = 100 * 1024;\n",
              "\n",
              "function _uploadFiles(inputId, outputId) {\n",
              "  const steps = uploadFilesStep(inputId, outputId);\n",
              "  const outputElement = document.getElementById(outputId);\n",
              "  // Cache steps on the outputElement to make it available for the next call\n",
              "  // to uploadFilesContinue from Python.\n",
              "  outputElement.steps = steps;\n",
              "\n",
              "  return _uploadFilesContinue(outputId);\n",
              "}\n",
              "\n",
              "// This is roughly an async generator (not supported in the browser yet),\n",
              "// where there are multiple asynchronous steps and the Python side is going\n",
              "// to poll for completion of each step.\n",
              "// This uses a Promise to block the python side on completion of each step,\n",
              "// then passes the result of the previous step as the input to the next step.\n",
              "function _uploadFilesContinue(outputId) {\n",
              "  const outputElement = document.getElementById(outputId);\n",
              "  const steps = outputElement.steps;\n",
              "\n",
              "  const next = steps.next(outputElement.lastPromiseValue);\n",
              "  return Promise.resolve(next.value.promise).then((value) => {\n",
              "    // Cache the last promise value to make it available to the next\n",
              "    // step of the generator.\n",
              "    outputElement.lastPromiseValue = value;\n",
              "    return next.value.response;\n",
              "  });\n",
              "}\n",
              "\n",
              "/**\n",
              " * Generator function which is called between each async step of the upload\n",
              " * process.\n",
              " * @param {string} inputId Element ID of the input file picker element.\n",
              " * @param {string} outputId Element ID of the output display.\n",
              " * @return {!Iterable<!Object>} Iterable of next steps.\n",
              " */\n",
              "function* uploadFilesStep(inputId, outputId) {\n",
              "  const inputElement = document.getElementById(inputId);\n",
              "  inputElement.disabled = false;\n",
              "\n",
              "  const outputElement = document.getElementById(outputId);\n",
              "  outputElement.innerHTML = '';\n",
              "\n",
              "  const pickedPromise = new Promise((resolve) => {\n",
              "    inputElement.addEventListener('change', (e) => {\n",
              "      resolve(e.target.files);\n",
              "    });\n",
              "  });\n",
              "\n",
              "  const cancel = document.createElement('button');\n",
              "  inputElement.parentElement.appendChild(cancel);\n",
              "  cancel.textContent = 'Cancel upload';\n",
              "  const cancelPromise = new Promise((resolve) => {\n",
              "    cancel.onclick = () => {\n",
              "      resolve(null);\n",
              "    };\n",
              "  });\n",
              "\n",
              "  // Wait for the user to pick the files.\n",
              "  const files = yield {\n",
              "    promise: Promise.race([pickedPromise, cancelPromise]),\n",
              "    response: {\n",
              "      action: 'starting',\n",
              "    }\n",
              "  };\n",
              "\n",
              "  cancel.remove();\n",
              "\n",
              "  // Disable the input element since further picks are not allowed.\n",
              "  inputElement.disabled = true;\n",
              "\n",
              "  if (!files) {\n",
              "    return {\n",
              "      response: {\n",
              "        action: 'complete',\n",
              "      }\n",
              "    };\n",
              "  }\n",
              "\n",
              "  for (const file of files) {\n",
              "    const li = document.createElement('li');\n",
              "    li.append(span(file.name, {fontWeight: 'bold'}));\n",
              "    li.append(span(\n",
              "        `(${file.type || 'n/a'}) - ${file.size} bytes, ` +\n",
              "        `last modified: ${\n",
              "            file.lastModifiedDate ? file.lastModifiedDate.toLocaleDateString() :\n",
              "                                    'n/a'} - `));\n",
              "    const percent = span('0% done');\n",
              "    li.appendChild(percent);\n",
              "\n",
              "    outputElement.appendChild(li);\n",
              "\n",
              "    const fileDataPromise = new Promise((resolve) => {\n",
              "      const reader = new FileReader();\n",
              "      reader.onload = (e) => {\n",
              "        resolve(e.target.result);\n",
              "      };\n",
              "      reader.readAsArrayBuffer(file);\n",
              "    });\n",
              "    // Wait for the data to be ready.\n",
              "    let fileData = yield {\n",
              "      promise: fileDataPromise,\n",
              "      response: {\n",
              "        action: 'continue',\n",
              "      }\n",
              "    };\n",
              "\n",
              "    // Use a chunked sending to avoid message size limits. See b/62115660.\n",
              "    let position = 0;\n",
              "    do {\n",
              "      const length = Math.min(fileData.byteLength - position, MAX_PAYLOAD_SIZE);\n",
              "      const chunk = new Uint8Array(fileData, position, length);\n",
              "      position += length;\n",
              "\n",
              "      const base64 = btoa(String.fromCharCode.apply(null, chunk));\n",
              "      yield {\n",
              "        response: {\n",
              "          action: 'append',\n",
              "          file: file.name,\n",
              "          data: base64,\n",
              "        },\n",
              "      };\n",
              "\n",
              "      let percentDone = fileData.byteLength === 0 ?\n",
              "          100 :\n",
              "          Math.round((position / fileData.byteLength) * 100);\n",
              "      percent.textContent = `${percentDone}% done`;\n",
              "\n",
              "    } while (position < fileData.byteLength);\n",
              "  }\n",
              "\n",
              "  // All done.\n",
              "  yield {\n",
              "    response: {\n",
              "      action: 'complete',\n",
              "    }\n",
              "  };\n",
              "}\n",
              "\n",
              "scope.google = scope.google || {};\n",
              "scope.google.colab = scope.google.colab || {};\n",
              "scope.google.colab._files = {\n",
              "  _uploadFiles,\n",
              "  _uploadFilesContinue,\n",
              "};\n",
              "})(self);\n",
              "</script> "
            ]
          },
          "metadata": {}
        },
        {
          "output_type": "stream",
          "name": "stdout",
          "text": [
            "Saving words[1].txt to words[1] (1).txt\n"
          ]
        }
      ]
    },
    {
      "cell_type": "code",
      "source": [
        "!ls #Compruebo lso archivos que se han subido"
      ],
      "metadata": {
        "colab": {
          "base_uri": "https://localhost:8080/"
        },
        "id": "IUJc4l3gsfVF",
        "outputId": "094ee7dc-9a4c-4ac8-af49-52358f5f69c9"
      },
      "execution_count": 19,
      "outputs": [
        {
          "output_type": "stream",
          "name": "stdout",
          "text": [
            " sample_data  'words[1] (1).txt'  'words[1].txt'\n"
          ]
        }
      ]
    },
    {
      "cell_type": "code",
      "execution_count": 12,
      "metadata": {
        "id": "DDFhxnVipyyJ"
      },
      "outputs": [],
      "source": [
        "def palabras_largas(documento):\n",
        "    with open(documento, 'r') as file:\n",
        "        for line in file:\n",
        "            for word in line.split():\n",
        "                if len(word) > 20:\n",
        "                    print(word)"
      ]
    },
    {
      "cell_type": "code",
      "source": [
        "palabras_largas('words[1].txt')"
      ],
      "metadata": {
        "colab": {
          "base_uri": "https://localhost:8080/"
        },
        "id": "DuA-HAKGrG4e",
        "outputId": "50a7515e-d1f0-4bf1-f3e2-d0d77b13f942"
      },
      "execution_count": 20,
      "outputs": [
        {
          "output_type": "stream",
          "name": "stdout",
          "text": [
            "counterdemonstrations\n",
            "hyperaggressivenesses\n",
            "microminiaturizations\n"
          ]
        }
      ]
    },
    {
      "cell_type": "markdown",
      "metadata": {
        "id": "7nPW_EgKpyyK"
      },
      "source": [
        "# <font color=olive> Ejercicio P2-2 </font> <span style=\"color:transparent\"> EjP2.2 </span>\n",
        "En 1939 Ernest Vincent Wright publicó una novela de 50.000 palabras llamada Gadsby que no contiene la letra \"e\". Puesto que \"e\" es la letra más común en inglés, no es fácil de hacer. De hecho, es difícil construir un pensamiento solitario sin usar el símbolo más común. Es un proceso lento al principio, pero con precaución y horas de entrenamiento se puede obtener gradualmente la habilidad.\n",
        "\n",
        "Escribe una función llamada _has\\_no\\_e_ que devuelve _True_ si la palabra dada no tiene la letra \"e\" en ella."
      ]
    },
    {
      "cell_type": "code",
      "execution_count": 22,
      "metadata": {
        "id": "cN9kpqbcpyyK"
      },
      "outputs": [],
      "source": [
        "def has_no_e(word):\n",
        "    return 'e' not in word"
      ]
    },
    {
      "cell_type": "code",
      "source": [
        "has_no_e(\"Hola\")"
      ],
      "metadata": {
        "colab": {
          "base_uri": "https://localhost:8080/"
        },
        "id": "db4Dj5GircGs",
        "outputId": "2166a5f0-0d04-4b57-e0fe-a37a52093646"
      },
      "execution_count": 23,
      "outputs": [
        {
          "output_type": "execute_result",
          "data": {
            "text/plain": [
              "True"
            ]
          },
          "metadata": {},
          "execution_count": 23
        }
      ]
    },
    {
      "cell_type": "code",
      "source": [
        "#El siguiente"
      ],
      "metadata": {
        "id": "dTgVaDl1t_OM"
      },
      "execution_count": null,
      "outputs": []
    },
    {
      "cell_type": "markdown",
      "metadata": {
        "id": "PmX9bOcMpyyL"
      },
      "source": [
        "Modifica tu programa de la sección anterior para imprimir sólo las palabras que no tienen \"e\" y calcula el porcentaje de las palabras de la lista que no tienen \"e\"."
      ]
    },
    {
      "cell_type": "code",
      "execution_count": 24,
      "metadata": {
        "id": "TjLf78Q7pyyL"
      },
      "outputs": [],
      "source": [
        "def has_no_e(word_list):\n",
        "    count_no_e = 0\n",
        "    for word in word_list:\n",
        "        if 'e'not in word.lower():\n",
        "            count_no_e = 1\n",
        "            print(word)\n",
        "    porcentaje_no_e = (float(count_no_e) / len(word_list)) * 100\n",
        "    print(\"{porcentaje_no_e}%\")"
      ]
    },
    {
      "cell_type": "code",
      "source": [
        "has_no_e('Este')"
      ],
      "metadata": {
        "colab": {
          "base_uri": "https://localhost:8080/"
        },
        "id": "gA3LkvbHs0MB",
        "outputId": "782bdef8-46fe-4fbb-e9e5-4bac74a7a8e7"
      },
      "execution_count": 26,
      "outputs": [
        {
          "output_type": "stream",
          "name": "stdout",
          "text": [
            "s\n",
            "t\n",
            "{porcentaje_no_e}%\n"
          ]
        }
      ]
    },
    {
      "cell_type": "markdown",
      "metadata": {
        "id": "laKqt1DFpyyL"
      },
      "source": [
        "# <font color=olive> Ejercicio P2-3 </font> <span style=\"color:transparent\"> EjP2.3 </span>\n",
        "Escribe una función llamada a *avoids* que tome una palabra y una cadena de letras prohibidas, y que devuelva _True_ si la palabra no usa ninguna de las letras prohibidas."
      ]
    },
    {
      "cell_type": "code",
      "execution_count": 28,
      "metadata": {
        "id": "MiDK-zuypyyL"
      },
      "outputs": [],
      "source": [
        "def avoids(palabra, prohibido):\n",
        "    return not any(letter in prohibido for letter in palabra)\n",
        "# not any(...) se utiliza para negar la salida de any(...). En otras palabras,\n",
        "#not any(...) será True si ninguno de los elementos en el iterable es evaluado como verdadero,\n",
        "#y será False si al menos uno de los elementos es evaluado como verdadero"
      ]
    },
    {
      "cell_type": "code",
      "source": [
        "avoids(\"hola\", \"jklnm\")"
      ],
      "metadata": {
        "colab": {
          "base_uri": "https://localhost:8080/"
        },
        "id": "0M62dwWstKaV",
        "outputId": "2bb93c91-8189-4c5e-9778-2904f3ba2798"
      },
      "execution_count": 29,
      "outputs": [
        {
          "output_type": "execute_result",
          "data": {
            "text/plain": [
              "False"
            ]
          },
          "metadata": {},
          "execution_count": 29
        }
      ]
    },
    {
      "cell_type": "code",
      "source": [
        "avoids(\"hola\", \"xyz\")"
      ],
      "metadata": {
        "colab": {
          "base_uri": "https://localhost:8080/"
        },
        "id": "d5Q3xFZ4tztb",
        "outputId": "14904ee5-8aed-439e-9e7e-7ab4142e07ad"
      },
      "execution_count": 30,
      "outputs": [
        {
          "output_type": "execute_result",
          "data": {
            "text/plain": [
              "True"
            ]
          },
          "metadata": {},
          "execution_count": 30
        }
      ]
    },
    {
      "cell_type": "markdown",
      "metadata": {
        "id": "kRa46qmmpyyL"
      },
      "source": [
        "Modifica tu programa de la sección anterior para imprimir sólo las palabras que no tienen \"e\" y crea una nueva que encuentre aquellas palabras que no contienen ninguno de los caracteres de una lista prohibida. Debe devolver el porcentaje de palabras que no contienen la lista prohibida. ¿Puedes encontrar una combinación de cinco letras prohibidas que excluya el menor número de palabras?"
      ]
    },
    {
      "cell_type": "code",
      "source": [
        "def palabras_no_prohibidas(filename, forbidden):\n",
        "    total_palabras = 0\n",
        "    palabras_validas = 0\n",
        "    with open(filename, 'r') as file:\n",
        "        for line in file:\n",
        "            for word in line.split():\n",
        "                total_palabras += 1\n",
        "                if not any(char in forbidden for char in word):\n",
        "                    palabras_validas += 1\n",
        "                    #print(word) Sugiero no añadirlo porque es mucho\n",
        "    procentaje = (palabras_validas / total_palabras) * 100\n",
        "    print(\"el porcentaje es \",int(procentaje),\"%\")\n"
      ],
      "metadata": {
        "id": "fhQH6HSbyeeC"
      },
      "execution_count": 67,
      "outputs": []
    },
    {
      "cell_type": "code",
      "source": [
        "palabras_no_prohibidas('words[1].txt', 'e')"
      ],
      "metadata": {
        "colab": {
          "base_uri": "https://localhost:8080/"
        },
        "id": "RqUSaUR2yfgR",
        "outputId": "cfcdccf8-ed1a-4484-8b51-b02264406f36"
      },
      "execution_count": 68,
      "outputs": [
        {
          "output_type": "stream",
          "name": "stdout",
          "text": [
            "el porcentaje es  33 %\n"
          ]
        }
      ]
    },
    {
      "cell_type": "markdown",
      "metadata": {
        "id": "WDjDw9Z8pyyM"
      },
      "source": [
        "# <font color=olive> Ejercicio P2-4 </font> <span style=\"color:transparent\"> EjP2.4 </span>\n",
        "\n",
        "Escribe una función llamada *uses_only* que reciba una palabra y una cadena de letras, y que devuelva _True_ si la palabra contiene sólo letras en la lista. ¿Puedes hacer una oración usando sólo las letras acefhlo? ¿Además de \"Hoe alfalfa\"?"
      ]
    },
    {
      "cell_type": "code",
      "execution_count": 38,
      "metadata": {
        "id": "DdaTGz5vpyyM"
      },
      "outputs": [],
      "source": [
        "def uses_only(palabra, disponible):\n",
        "    return set(palabra) <= set(disponible) #Verifico si el set contienne los mismos o menos elementos del set disponible\n"
      ]
    },
    {
      "cell_type": "code",
      "source": [
        "uses_only('Hola', 'Hola')"
      ],
      "metadata": {
        "colab": {
          "base_uri": "https://localhost:8080/"
        },
        "id": "GukHhc5ZuN1U",
        "outputId": "951ddc22-94c9-42b7-8978-414719c4aebd"
      },
      "execution_count": 39,
      "outputs": [
        {
          "output_type": "execute_result",
          "data": {
            "text/plain": [
              "True"
            ]
          },
          "metadata": {},
          "execution_count": 39
        }
      ]
    },
    {
      "cell_type": "code",
      "source": [
        "uses_only('Hola', 'Adios')"
      ],
      "metadata": {
        "colab": {
          "base_uri": "https://localhost:8080/"
        },
        "id": "9ZM9vTvjubpX",
        "outputId": "8c7884f7-7a21-4367-fabc-11073339f222"
      },
      "execution_count": 40,
      "outputs": [
        {
          "output_type": "execute_result",
          "data": {
            "text/plain": [
              "False"
            ]
          },
          "metadata": {},
          "execution_count": 40
        }
      ]
    },
    {
      "cell_type": "markdown",
      "metadata": {
        "id": "WWGGgPHfpyyM"
      },
      "source": [
        "# <font color=olive> Ejercicio P2-5 </font> <span style=\"color:transparent\"> EjP2.5 </span>\n",
        "\n",
        "Escribe una función llamada *uses_all* que reciba una palabra y una cadena de letras requeridas, y que devuelva _True_ si la palabra usa todas las letras requeridas al menos una vez. ¿Cuántas palabras hay que usan todas las vocales aeiou? ¿Y aeiouy?"
      ]
    },
    {
      "cell_type": "code",
      "execution_count": 42,
      "metadata": {
        "id": "gRtBK62upyyM"
      },
      "outputs": [],
      "source": [
        "def uses_all(palabra, requerido):\n",
        "    return set(requerido) <= set(palabra)"
      ]
    },
    {
      "cell_type": "code",
      "source": [
        "def comprobar_aeiou(documento):\n",
        "    with open(documento, 'r') as file:\n",
        "        for line in file:\n",
        "            for word in line.split():\n",
        "                if uses_all(word, \"aeiou\"):\n",
        "                    print(word)"
      ],
      "metadata": {
        "id": "iVHaZiDkvpX8"
      },
      "execution_count": 49,
      "outputs": []
    },
    {
      "cell_type": "code",
      "source": [
        "comprobar_aeiou('words[1].txt')"
      ],
      "metadata": {
        "id": "j7QPLyh2v3w_"
      },
      "execution_count": null,
      "outputs": []
    },
    {
      "cell_type": "code",
      "source": [
        "def comprobar_aeiouy(documento):\n",
        "    with open(documento, 'r') as file:\n",
        "        for line in file:\n",
        "            for word in line.split():\n",
        "                if uses_all(word, \"aeiouy\"):\n",
        "                    print(word)"
      ],
      "metadata": {
        "id": "pzoLDpR-wJPk"
      },
      "execution_count": 50,
      "outputs": []
    },
    {
      "cell_type": "code",
      "source": [
        "comprobar_aeiouy('words[1].txt')"
      ],
      "metadata": {
        "colab": {
          "base_uri": "https://localhost:8080/"
        },
        "id": "3lv4hxZ3wOLJ",
        "outputId": "574f7a99-640a-4bea-a614-1915452e1530"
      },
      "execution_count": 51,
      "outputs": [
        {
          "output_type": "stream",
          "name": "stdout",
          "text": [
            "abstemiously\n",
            "adventitiously\n",
            "aeronautically\n",
            "ambidextrously\n",
            "antievolutionary\n",
            "antirevolutionary\n",
            "antiunemployment\n",
            "authoritatively\n",
            "autotypies\n",
            "buoyancies\n",
            "counterinflationary\n",
            "evolutionary\n",
            "extracommunity\n",
            "facetiously\n",
            "genitourinary\n",
            "gregariously\n",
            "hyperanxious\n",
            "hypercautious\n",
            "hyperfastidious\n",
            "inconsequentially\n",
            "instantaneously\n",
            "intravenously\n",
            "mendaciously\n",
            "miscellaneously\n",
            "nefariously\n",
            "neurologically\n",
            "neurotically\n",
            "ostentatiously\n",
            "outwearying\n",
            "postrevolutionary\n",
            "precariously\n",
            "precautionary\n",
            "prerevolutionary\n",
            "revolutionary\n",
            "sacrilegiously\n",
            "simultaneously\n",
            "tenaciously\n",
            "uncomplimentary\n",
            "unconventionally\n",
            "unequivocally\n",
            "unintentionally\n",
            "unquestionably\n"
          ]
        }
      ]
    },
    {
      "cell_type": "markdown",
      "metadata": {
        "id": "l4WK_bKYpyyN"
      },
      "source": [
        "# <font color=olive> Ejercicio P2-6 </font> <span style=\"color:transparent\"> EjP2.6 </span>\n",
        "Escribe una función llamada *is_abecedarian* que devuelve _True_ si las letras de una palabra aparecen en orden alfabético (las letras dobles también valen como orden alfabético). ¿Cuántas palabras abecedarias hay?"
      ]
    },
    {
      "cell_type": "code",
      "execution_count": 54,
      "metadata": {
        "id": "3huHAo_3pyyN"
      },
      "outputs": [],
      "source": [
        "#Definimos la función is_abecedarian\n",
        "def is_abecedarian_palabra(palabra):\n",
        "    return list(palabra.upper()) == sorted(palabra.upper())"
      ]
    },
    {
      "cell_type": "code",
      "source": [
        "def is_abecedarian(documento):\n",
        "    contador = 0\n",
        "    with open(documento, 'r') as file:\n",
        "        for line in file:\n",
        "            for word in line.split():\n",
        "                if is_abecedarian_palabra(word):\n",
        "                    #print(word) No lo recomiendo\n",
        "                    contador = contador +1\n",
        "\n",
        "        print(\"el número de palabras es\",contador)"
      ],
      "metadata": {
        "id": "LM2ZFJaAw0Jy"
      },
      "execution_count": 69,
      "outputs": []
    },
    {
      "cell_type": "code",
      "source": [
        "is_abecedarian('words[1].txt')"
      ],
      "metadata": {
        "colab": {
          "base_uri": "https://localhost:8080/"
        },
        "id": "PowH5VL9xBFK",
        "outputId": "e39aed1f-acda-491b-ed72-b6515df0901c"
      },
      "execution_count": 70,
      "outputs": [
        {
          "output_type": "stream",
          "name": "stdout",
          "text": [
            "el número de palabras es 596\n"
          ]
        }
      ]
    },
    {
      "cell_type": "markdown",
      "metadata": {
        "id": "k8eH75D_pyyN"
      },
      "source": [
        "# <font color=olive> Ejercicio P2-7 </font> <span style=\"color:transparent\"> EjP2.7 </span>\n",
        "Esta pregunta se basa en un Puzzle que fue transmitido en el programa de radio Car Talk (http://www.cartalk.com/content/puzzlers):\n",
        "\n",
        "Este problema sólo funciona con el diccionario en inglés. Busca una palabra con tres letras dobles consecutivas. Como ejemplo te diré un par de palabras que casi lo cumplen, pero no lo hacen. Por ejemplo: \"committee',  c-o-m-m-i-t-t-e-e. Sería genial si no fuera por la \"i\" que se cuela por en medio. O Mississippi: M-i-s-s-i-s-s-i-p-p-i. Si pudieras quitar esos i's intermedios, funcionaría. Pero hay una palabra que tiene tres pares de letras consecutivos y que yo sepa, esta puede ser la única palabra. Es posible que haya 500 más, pero sólo puedo pensar en una. ¿Cuál es la palabra? Escribe un programa para encontrarla."
      ]
    },
    {
      "cell_type": "code",
      "execution_count": 61,
      "metadata": {
        "id": "y1QyIODSpyyN"
      },
      "outputs": [],
      "source": [
        "def find_triple_double():\n",
        "    with open('words.txt', 'r') as file:\n",
        "        for word in file:\n",
        "            if has_triple_double(word.strip()):\n",
        "                return word.strip()\n",
        "    return None"
      ]
    },
    {
      "cell_type": "code",
      "source": [
        "def has_triple_double(word):\n",
        "    i = 0\n",
        "    count = 0\n",
        "    while i < len(word) - 1:\n",
        "        if word[i] == word[i + 1]:\n",
        "            count += 1\n",
        "            if count == 3:\n",
        "                return True\n",
        "            i += 2\n",
        "        else:\n",
        "            count = 0\n",
        "            i += 1\n",
        "    return False"
      ],
      "metadata": {
        "id": "LEzpmFuhxlPC"
      },
      "execution_count": 62,
      "outputs": []
    },
    {
      "cell_type": "markdown",
      "metadata": {
        "id": "4NjdSkidpyyN"
      },
      "source": [
        "# <font color=olive> Ejercicio P2-8 </font> <span style=\"color:transparent\"> EjP2.8 </span>\n",
        "Aquí hay otro Car Talk Puzzler (http://www.cartalk.com/content/puzzlers):\n",
        "\n",
        "\"El otro día estaba conduciendo por la autopista y me fijé en mi cuentakilómetros. Como la mayoría de los odómetros, muestra seis dígitos, en kilómetros enteros solamente. Así que, si mi coche tuviera 300.000 kilómetros, por ejemplo, vería 3-0-0-0-0-0.\n",
        "\n",
        "\"Lo que vi ese día fue muy interesante. Noté que los últimos 4 dígitos eran palindrómicos; es decir, se leen lo mismo hacia adelante que hacia atrás. Por ejemplo, 5-4-4-5 es un palíndromo, así que en mi cuentakilómetros podría poner 3-1-5-4-4-5.\n",
        "\n",
        "\"Un kilómetro después, los últimos 5 números eran palindrómicos. Por ejemplo, podría haber leído 3-6-5-4-5-6. Un kilómetro después de eso, los 4 números del medio de 6 eran palindrómicos. ¿Y estás listo para esto? Una kilómetro más tarde, los 6 eran palindrómicos!\n",
        "\n",
        "\"La pregunta es, ¿qué había en el odómetro cuando miré por primera vez?\"\n",
        "\n",
        "Escribe un programa Python que pruebe todos los números de seis dígitos e imprime cualquier número que satisfaga estos requisitos."
      ]
    },
    {
      "cell_type": "code",
      "execution_count": 72,
      "metadata": {
        "id": "xpJinIDApyyN"
      },
      "outputs": [],
      "source": [
        "def is_palindrome(num):\n",
        "\n",
        "  # Función para encontrar números de odómetros que cumplen las condiciones dadas\n",
        "    return str(num) == str(num)[::-1]"
      ]
    },
    {
      "cell_type": "code",
      "source": [
        "def odometro():\n",
        "    for i in range(100000, 1000000):\n",
        "        if is_palindrome(str(i)[2:6]) and \\\n",
        "           is_palindrome(str(i+1)[1:6]) and \\\n",
        "           is_palindrome(str(i+2)[1:5]) and \\\n",
        "           is_palindrome(str(i+3)):\n",
        "            print(i)\n"
      ],
      "metadata": {
        "id": "kWBncTFkzUUc"
      },
      "execution_count": 73,
      "outputs": []
    },
    {
      "cell_type": "code",
      "source": [
        "odometro()"
      ],
      "metadata": {
        "colab": {
          "base_uri": "https://localhost:8080/"
        },
        "id": "47n_VvayzdGp",
        "outputId": "013219c3-9272-40f2-e274-a8c1e64903fd"
      },
      "execution_count": 74,
      "outputs": [
        {
          "output_type": "stream",
          "name": "stdout",
          "text": [
            "198888\n",
            "199999\n"
          ]
        }
      ]
    },
    {
      "cell_type": "markdown",
      "metadata": {
        "id": "ktaeVLbopyyO"
      },
      "source": [
        "# <font color=olive> Ejercicio P2-9 </font> <span style=\"color:transparent\"> EjP2.9 </span>\n",
        "\n",
        "Aquí hay otro rompecabezas de Car Talk que puedes resolver con una búsqueda (http://www.cartalk.com/content/puzzlers):\n",
        "\n",
        "\"Recientemente tuve una visita a mi madre y nos dimos cuenta de que los dos dígitos que componen mi edad cuando se revierte son su edad. Por ejemplo, si ella tiene 73 años, yo tengo 37. Nos preguntábamos con qué frecuencia ha ocurrido esto a lo largo de los años, pero nos desviamos con otros temas y nunca llegamos a una respuesta\".\n",
        "\n",
        "\"Cuando llegué a casa me di cuenta de que los dígitos de nuestras edades han sido reversibles seis veces hasta ahora. También me di cuenta de que si teníamos suerte, volvería a ocurrir en unos pocos años, y si teníamos mucha suerte, volvería a ocurrir una vez más. En otras palabras, habría ocurrido 8 veces en total. Así que la pregunta es, ¿cuántos años tengo ahora?\"\n",
        "\n",
        "Escribe un programa Python que busque soluciones para este Puzzle. Sugerencia: puede que encuentres útil el método de cadenas zfill."
      ]
    },
    {
      "cell_type": "code",
      "source": [
        "def encontrar_edad():\n",
        "    for edad_hijo in range(1, 100):\n",
        "        count = 0\n",
        "        for i in range(0, 100):\n",
        "            edad_madre = edad_hijo + i\n",
        "            if str(edad_hijo).zfill(2) == str(edad_madre).zfill(2)[::-1]:\n",
        "                count += 1\n",
        "                if count == 6:\n",
        "                    print(f\"El hijo tiene {edad_hijo} años y la madre {edad_madre} años.\")\n",
        "                    break\n",
        "\n",
        "encontrar_edad()\n"
      ],
      "metadata": {
        "id": "oUcUsAT9zvnw"
      },
      "execution_count": 80,
      "outputs": []
    },
    {
      "cell_type": "code",
      "source": [
        "encontrar_edad()"
      ],
      "metadata": {
        "id": "_0Db-ZlNz5Qj"
      },
      "execution_count": 81,
      "outputs": []
    },
    {
      "cell_type": "markdown",
      "metadata": {
        "id": "BgtQv-3qpyyO"
      },
      "source": [
        "# <font color=red> Copyright </font>\n",
        "\n",
        "$\\copyright$ Copyright 2012 Eloy Anguiano Rey - All rights reserved\n",
        "\n",
        "Queda expresamente prohibida la copia, distribución, modificación o cualquier otro uso de este documento sin permiso del autor."
      ]
    }
  ],
  "metadata": {
    "kernelspec": {
      "display_name": "Python 3.8.10 64-bit",
      "language": "python",
      "name": "python3"
    },
    "language_info": {
      "codemirror_mode": {
        "name": "ipython",
        "version": 3
      },
      "file_extension": ".py",
      "mimetype": "text/x-python",
      "name": "python",
      "nbconvert_exporter": "python",
      "pygments_lexer": "ipython3",
      "version": "3.9.12"
    },
    "vscode": {
      "interpreter": {
        "hash": "916dbcbb3f70747c44a77c7bcd40155683ae19c65e1c03b4aa3499c5328201f1"
      }
    },
    "colab": {
      "provenance": []
    }
  },
  "nbformat": 4,
  "nbformat_minor": 0
}