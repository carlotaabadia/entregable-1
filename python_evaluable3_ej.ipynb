{
  "cells": [
    {
      "cell_type": "markdown",
      "metadata": {
        "id": "kFQg3Bx90uLJ"
      },
      "source": [
        "\n",
        "\n",
        "\n",
        "\n",
        "\n",
        "\n",
        "\n",
        "\n",
        "\n",
        "\n",
        "\n",
        "\n",
        "\n",
        "\n",
        "\n",
        "\n",
        "\n",
        "\n",
        "\n",
        "\n",
        "\n",
        "\n",
        "\n",
        "\n",
        "\n",
        "\n",
        "\n",
        "\n",
        "\n",
        "\n",
        "\n",
        "\n",
        "\n",
        "\n",
        "\n",
        "\n",
        "\n",
        "\n",
        "\n",
        "\n",
        "\n",
        "\n",
        "\n",
        "\n",
        "\n",
        "\n",
        "\n",
        "\n",
        "# <font color=red> Nota:  </font>"
      ]
    },
    {
      "cell_type": "markdown",
      "metadata": {
        "id": "mOZ8TTAQ0uLL"
      },
      "source": [
        "# <font color=olive> Ejercicio P3-1 </font> <span style=\"color:transparent\"> EjP3.1 </span>\n",
        "Escribe un programa que lea un archivo, rompa cada línea en palabras, elimine los espacios en blanco y la puntuación de las palabras, y las convierta en minúsculas.\n",
        "\n",
        "Sugerencia: El módulo _string_ proporciona una cadena llamada *whitespace*, que contiene el espacio, el tabulador, nueva línea, etc., y *punctuation* que contiene los caracteres de puntuación. Veamos si podemos hacer que Python \"jure como en los comics\":"
      ]
    },
    {
      "cell_type": "code",
      "execution_count": 18,
      "metadata": {
        "id": "DKJUw9C00uLM"
      },
      "outputs": [],
      "source": [
        "import string\n",
        "\n",
        "def procesar_texto(archivo):\n",
        "    with open(archivo, 'r') as file:\n",
        "        for line in file:\n",
        "            # Eliminar puntuación y convertir a minúsculas\n",
        "            line = line.translate(str.maketrans('', '', string.punctuation)).lower()\n",
        "            words = line.split()\n",
        "            for word in words:\n",
        "                print(word)"
      ]
    },
    {
      "cell_type": "markdown",
      "metadata": {
        "id": "G9sCtr2f0uLN"
      },
      "source": [
        "¡Pues sí, es un juramento propio de un comic!\n",
        "\n",
        "También, debes considerar el uso de los métodos de cadenas para quitar, reemplazar y traducir."
      ]
    },
    {
      "cell_type": "code",
      "execution_count": 18,
      "metadata": {
        "scrolled": false,
        "id": "Z6nKnAyJ0uLN"
      },
      "outputs": [],
      "source": []
    },
    {
      "cell_type": "markdown",
      "metadata": {
        "id": "7b82CaeO0uLN"
      },
      "source": [
        "# <font color=olive> Ejercicio P3-2 </font> <span style=\"color:transparent\"> EjP3.2 </span>\n",
        "Debes usar el fichero con El Quijote en texto plano que se proporciona. Debes realizar los cálculos sobre este fichero.\n",
        "\n",
        "Si lo necesitas, modifica el programa del ejercicio anterior para leer El Quijote.\n",
        "\n",
        "Luego modifica el programa para contar el número total de palabras del libro y el número de veces que se usa cada palabra.\n",
        "\n",
        "Imprime el número de palabras diferentes que se usan en el libro así como el porcentaje de uso de la 50 palabras más usadas."
      ]
    },
    {
      "cell_type": "code",
      "execution_count": 19,
      "metadata": {
        "id": "4dUPc9sm0uLO"
      },
      "outputs": [],
      "source": [
        "from collections import Counter"
      ]
    },
    {
      "cell_type": "code",
      "source": [
        "def contar_palabras(filename):\n",
        "    word_count = Counter()\n",
        "    with open(filename, 'r') as file:\n",
        "        for line in file:\n",
        "            line = line.translate(str.maketrans('', '', string.punctuation)).lower()\n",
        "            words = line.split()\n",
        "            word_count.update(words)\n",
        "\n",
        "    total_palabras = sum(word_count.values())\n",
        "    diferentes_palabras = len(word_count)\n",
        "    print(f\"Número total de palabras: {total_palabras}\")\n",
        "    print(f\"Número de palabras diferentes: {diferentes_palabras}\")\n",
        "\n",
        "    # Imprimir el porcentaje de uso de las 50 palabras más usadas\n",
        "    for word, count in word_count.most_common(50):\n",
        "        percentage = (count / total_palabras) * 100\n",
        "        print(f\"Palabra: {word}, Uso: {percentage:.2f}%\")"
      ],
      "metadata": {
        "id": "OWbl57nQ1sgY"
      },
      "execution_count": 20,
      "outputs": []
    },
    {
      "cell_type": "code",
      "source": [
        "contar_palabras('words.txt')"
      ],
      "metadata": {
        "colab": {
          "base_uri": "https://localhost:8080/"
        },
        "id": "KylYUDt_2Bcs",
        "outputId": "6aea99d5-5b17-404f-cd37-1a3914ca00e2"
      },
      "execution_count": 21,
      "outputs": [
        {
          "output_type": "stream",
          "name": "stdout",
          "text": [
            "Número total de palabras: 113783\n",
            "Número de palabras diferentes: 113783\n",
            "Palabra: aa, Uso: 0.00%\n",
            "Palabra: aah, Uso: 0.00%\n",
            "Palabra: aahed, Uso: 0.00%\n",
            "Palabra: aahing, Uso: 0.00%\n",
            "Palabra: aahs, Uso: 0.00%\n",
            "Palabra: aal, Uso: 0.00%\n",
            "Palabra: aalii, Uso: 0.00%\n",
            "Palabra: aaliis, Uso: 0.00%\n",
            "Palabra: aals, Uso: 0.00%\n",
            "Palabra: aardvark, Uso: 0.00%\n",
            "Palabra: aardvarks, Uso: 0.00%\n",
            "Palabra: aardwolf, Uso: 0.00%\n",
            "Palabra: aardwolves, Uso: 0.00%\n",
            "Palabra: aas, Uso: 0.00%\n",
            "Palabra: aasvogel, Uso: 0.00%\n",
            "Palabra: aasvogels, Uso: 0.00%\n",
            "Palabra: aba, Uso: 0.00%\n",
            "Palabra: abaca, Uso: 0.00%\n",
            "Palabra: abacas, Uso: 0.00%\n",
            "Palabra: abaci, Uso: 0.00%\n",
            "Palabra: aback, Uso: 0.00%\n",
            "Palabra: abacus, Uso: 0.00%\n",
            "Palabra: abacuses, Uso: 0.00%\n",
            "Palabra: abaft, Uso: 0.00%\n",
            "Palabra: abaka, Uso: 0.00%\n",
            "Palabra: abakas, Uso: 0.00%\n",
            "Palabra: abalone, Uso: 0.00%\n",
            "Palabra: abalones, Uso: 0.00%\n",
            "Palabra: abamp, Uso: 0.00%\n",
            "Palabra: abampere, Uso: 0.00%\n",
            "Palabra: abamperes, Uso: 0.00%\n",
            "Palabra: abamps, Uso: 0.00%\n",
            "Palabra: abandon, Uso: 0.00%\n",
            "Palabra: abandoned, Uso: 0.00%\n",
            "Palabra: abandoning, Uso: 0.00%\n",
            "Palabra: abandonment, Uso: 0.00%\n",
            "Palabra: abandonments, Uso: 0.00%\n",
            "Palabra: abandons, Uso: 0.00%\n",
            "Palabra: abas, Uso: 0.00%\n",
            "Palabra: abase, Uso: 0.00%\n",
            "Palabra: abased, Uso: 0.00%\n",
            "Palabra: abasedly, Uso: 0.00%\n",
            "Palabra: abasement, Uso: 0.00%\n",
            "Palabra: abasements, Uso: 0.00%\n",
            "Palabra: abaser, Uso: 0.00%\n",
            "Palabra: abasers, Uso: 0.00%\n",
            "Palabra: abases, Uso: 0.00%\n",
            "Palabra: abash, Uso: 0.00%\n",
            "Palabra: abashed, Uso: 0.00%\n",
            "Palabra: abashes, Uso: 0.00%\n"
          ]
        }
      ]
    },
    {
      "cell_type": "markdown",
      "metadata": {
        "id": "G-pC1PcX0uLO"
      },
      "source": [
        "# <font color=olive> Ejercicio P3-3 </font> <span style=\"color:transparent\"> EjP3.3 </span>\n",
        "Modifica el programa del ejercicio anterior para imprimir las 20 palabras más usadas en el libro y su frecuencia (en tanto por 1000) de uso."
      ]
    },
    {
      "cell_type": "code",
      "execution_count": 22,
      "metadata": {
        "id": "qUhRRWCP0uLO"
      },
      "outputs": [],
      "source": [
        "def palabras_mas_usadas(filename):\n",
        "    conteo_palabras = Counter()\n",
        "    with open(filename, 'r') as file:\n",
        "        for line in file:\n",
        "            line = line.translate(str.maketrans('', '', string.punctuation)).lower()\n",
        "            words = line.split()\n",
        "            conteo_palabras.update(words)\n",
        "\n",
        "    total_palabras = sum(conteo_palabras.values())\n",
        "\n",
        "    # Imprimir las 20 palabras más usadas y su frecuencia\n",
        "    for word, count in conteo_palabras.most_common(20):\n",
        "        frequency_per_thousand = (count / total_palabras) * 1000\n",
        "        print(f\"Palabra: {word}, Frecuencia: {frequency_per_thousand:.2f} por mil\")\n"
      ]
    },
    {
      "cell_type": "code",
      "source": [
        "palabras_mas_usadas('words.txt')"
      ],
      "metadata": {
        "colab": {
          "base_uri": "https://localhost:8080/"
        },
        "id": "ekgXEq6M178e",
        "outputId": "ffc88281-fb4d-405b-ac4d-1321b98930f6"
      },
      "execution_count": 23,
      "outputs": [
        {
          "output_type": "stream",
          "name": "stdout",
          "text": [
            "Palabra: aa, Frecuencia: 0.01 por mil\n",
            "Palabra: aah, Frecuencia: 0.01 por mil\n",
            "Palabra: aahed, Frecuencia: 0.01 por mil\n",
            "Palabra: aahing, Frecuencia: 0.01 por mil\n",
            "Palabra: aahs, Frecuencia: 0.01 por mil\n",
            "Palabra: aal, Frecuencia: 0.01 por mil\n",
            "Palabra: aalii, Frecuencia: 0.01 por mil\n",
            "Palabra: aaliis, Frecuencia: 0.01 por mil\n",
            "Palabra: aals, Frecuencia: 0.01 por mil\n",
            "Palabra: aardvark, Frecuencia: 0.01 por mil\n",
            "Palabra: aardvarks, Frecuencia: 0.01 por mil\n",
            "Palabra: aardwolf, Frecuencia: 0.01 por mil\n",
            "Palabra: aardwolves, Frecuencia: 0.01 por mil\n",
            "Palabra: aas, Frecuencia: 0.01 por mil\n",
            "Palabra: aasvogel, Frecuencia: 0.01 por mil\n",
            "Palabra: aasvogels, Frecuencia: 0.01 por mil\n",
            "Palabra: aba, Frecuencia: 0.01 por mil\n",
            "Palabra: abaca, Frecuencia: 0.01 por mil\n",
            "Palabra: abacas, Frecuencia: 0.01 por mil\n",
            "Palabra: abaci, Frecuencia: 0.01 por mil\n"
          ]
        }
      ]
    },
    {
      "cell_type": "markdown",
      "metadata": {
        "id": "ypCWhGT40uLO"
      },
      "source": [
        "# <font color=olive> Ejercicio P3-4 </font> <span style=\"color:transparent\"> EjP3.4 </span>\n",
        "Compara diferentes libros de diferentes autores; escritos en diferentes épocas; si es prosa, verso, ensayo, etc.; idioma; o cualquier otra característica que se te ocurra. Puedes tener en cuenta el número de palabras utilizadas, su frecuencia u otra característica que se te ocurra. Una vez que tengas los resultados puedes responder a preguntas como: ¿qué autor utiliza el vocabulario más extenso?, ¿hay alguna diferencia clara entre épocas?, ¿hay diferencias entre idiomas? o preguntas que se te ocurra hacerte. Responde a estas preguntas y las que se te ocurra como respuesta a este problema. Debes buscar algunos libros en texto plano.\n",
        "\n",
        "En la celda que empiza con \"Respuesta a las preguntas\" debes dar todas las explicaciones que puedas dar a las preguntas realizadas."
      ]
    },
    {
      "cell_type": "code",
      "execution_count": 24,
      "metadata": {
        "id": "U208L_vH0uLO"
      },
      "outputs": [],
      "source": [
        "def analizar_libro(archivo):\n",
        "    conteo_palabras = Counter()\n",
        "    with open(archivo, 'r') as file:\n",
        "        for line in file:\n",
        "            line = line.translate(str.maketrans('', '', string.punctuation)).lower()\n",
        "            words = line.split()\n",
        "            conteo_palabras.update(words)\n",
        "    return conteo_palabras"
      ]
    },
    {
      "cell_type": "markdown",
      "metadata": {
        "id": "cLImtIE50uLO"
      },
      "source": [
        "Respuesta a las preguntas:"
      ]
    },
    {
      "cell_type": "code",
      "source": [
        "# Ejemplo de cómo usar la función:\n",
        "# vocabulario_quijote = analizar_libro('quijote.txt')\n",
        "# vocabulario_otro_libro = analizar_libro('otro_libro.txt')"
      ],
      "metadata": {
        "id": "z67mU6sK2qSo"
      },
      "execution_count": 25,
      "outputs": []
    },
    {
      "cell_type": "markdown",
      "metadata": {
        "id": "aPok98-j0uLP"
      },
      "source": []
    },
    {
      "cell_type": "markdown",
      "metadata": {
        "id": "9ek3tBuy0uLP"
      },
      "source": [
        "# <font color=olive> Ejercicio P3-5 </font> <span style=\"color:transparent\"> EjP3.5 </span>\n",
        "Modifica las funciones anteriores para que lean una lista de palabras (ver \"Lectura de listas de palabras\") y luego imprime todas las palabras El Quijote que no están en la lista de palabras. ¿Cuántas de ellas son errores tipográficos? ¿Cuántas de ellas son palabras comunes que deberían estar en la lista de palabras, y cuántas de ellas son realmente extrañas? (Dispones de una lista de palabras en español en el fichero \"palabras.txt\") de un notebook anterior."
      ]
    },
    {
      "cell_type": "code",
      "execution_count": 26,
      "metadata": {
        "scrolled": false,
        "id": "5itElMA30uLP"
      },
      "outputs": [],
      "source": [
        "def palabras_no_listadas(archivo, lista_palabras):\n",
        "    conteo_palabras = Counter()\n",
        "    with open(archivo, 'r') as file:\n",
        "        for line in file:\n",
        "            line = line.translate(str.maketrans('', '', string.punctuation)).lower()\n",
        "            words = line.split()\n",
        "            for word in words:\n",
        "                if word not in lista_palabras:\n",
        "                    conteo_palabras[word] += 1\n",
        "    return conteo_palabras"
      ]
    },
    {
      "cell_type": "code",
      "source": [
        "palabras_no_listadas('quijote.txt','words.txt')"
      ],
      "metadata": {
        "id": "An9KYsVJ3DRu"
      },
      "execution_count": null,
      "outputs": []
    },
    {
      "cell_type": "markdown",
      "metadata": {
        "id": "MihNeTwJ0uLP"
      },
      "source": [
        "# <font color=olive> Ejercicio P3-6 </font> <span style=\"color:transparent\"> EjP3.6 </span>\n",
        "Escribe una función llamada *choose_from_hist* que recibe un histograma como se define en \"Diccionarios como colección de contadores\" y devuelve un valor aleatorio del histograma, elegido con probabilidad en proporción a la frecuencia. Por ejemplo, para este histograma:"
      ]
    },
    {
      "cell_type": "code",
      "execution_count": 29,
      "metadata": {
        "id": "nE908mGM0uLP"
      },
      "outputs": [],
      "source": [
        "import random\n",
        "\n",
        "def histograma(hist):\n",
        "    words = list(hist.keys())\n",
        "    frequencies = list(hist.values())\n",
        "    return random.choices(words, weights=frequencies)[0]\n"
      ]
    },
    {
      "cell_type": "markdown",
      "metadata": {
        "id": "8pwpeSj20uLP"
      },
      "source": [
        "tu función debería devolver 'a' con probabilidad 2/3 y 'b' con probabilidad 1/3."
      ]
    },
    {
      "cell_type": "code",
      "execution_count": null,
      "metadata": {
        "id": "wLbWiYZm0uLQ"
      },
      "outputs": [],
      "source": []
    },
    {
      "cell_type": "markdown",
      "metadata": {
        "id": "n7D7n4eL0uLQ"
      },
      "source": [
        "# <font color=olive> Ejercicio P3-7 </font> <span style=\"color:transparent\"> EjP3.7 </span>\n",
        "Python proporciona una estructura de datos llamada *set* que proporciona muchas operaciones de comunes sobre colecciones.\n",
        "\n",
        "Puede leer sobre ellos en \"Sets\" en el tema de Golosinas.\n",
        "\n",
        "Escribe un programa que use las diferencia entre colecciones (*set*) para encontrar palabras del libro que no estén en la lista de palabras."
      ]
    },
    {
      "cell_type": "code",
      "execution_count": 30,
      "metadata": {
        "id": "7pugsVdN0uLQ"
      },
      "outputs": [],
      "source": [
        "def palabras_unicas_libro(archivo, lista_palabras):\n",
        "    palabras_libro = set()\n",
        "    with open(archivo, 'r') as file:\n",
        "        for line in file:\n",
        "            line = line.translate(str.maketrans('', '', string.punctuation)).lower()\n",
        "            palabras_libro.update(line.split())\n",
        "    return palabras_libro - set(lista_palabras)"
      ]
    },
    {
      "cell_type": "code",
      "source": [
        "palabras_unicas = palabras_unicas_libro('quijote.txt', lista_palabras)"
      ],
      "metadata": {
        "id": "p7bXHuEs3i--"
      },
      "execution_count": null,
      "outputs": []
    },
    {
      "cell_type": "markdown",
      "metadata": {
        "id": "HwzDSw_e0uLQ"
      },
      "source": [
        "# <font color=olive> Ejercicio P3-8 </font> <span style=\"color:transparent\"> EjP3.8 </span>\n",
        "Escribe un programa que utilice el algoritmo descrito en la sección \"Palabras aleatorias\" para elegir una palabra aleatoria del libro."
      ]
    },
    {
      "cell_type": "code",
      "execution_count": 32,
      "metadata": {
        "id": "ag3q9yfN0uLQ"
      },
      "outputs": [],
      "source": [
        "def palabra_aleatoria_del_libro(hist):\n",
        "    return histograma(hist)"
      ]
    },
    {
      "cell_type": "markdown",
      "metadata": {
        "id": "LCkK0Le90uLQ"
      },
      "source": [
        "# <font color=olive> Ejercicio P3-9 </font> <span style=\"color:transparent\"> EjP3.9 </span>\n",
        "Análisis de Markov:\n",
        "1.  Escribe un programa para leer un texto de un archivo y realizar un análisis de Markov. El resultado debería ser un diccionario que mapea desde los prefijos a una colección de posibles sufijos. La colección puede ser una lista, una tupla o un diccionario; depende de ti hacer una elección apropiada. Puedes probar tu programa con la longitud de prefijo 2, pero debes escribir el programa de manera que sea fácil probar otras longitudes. Puedes utilizar textos más largos como el Quijote o parte de él."
      ]
    },
    {
      "cell_type": "code",
      "execution_count": 34,
      "metadata": {
        "id": "JPk1Sj4z0uLQ"
      },
      "outputs": [],
      "source": [
        "def analisis_markov(texto, longitud_prefijo=2):\n",
        "    markov = {}\n",
        "    palabras = texto.split()\n",
        "    for i in range(len(palabras) - longitud_prefijo):\n",
        "        prefijo = tuple(palabras[i:i + longitud_prefijo])\n",
        "        sufijo = palabras[i + longitud_prefijo]\n",
        "        if prefijo not in markov:\n",
        "            markov[prefijo] = []\n",
        "        markov[prefijo].append(sufijo)\n",
        "    return markov\n"
      ]
    },
    {
      "cell_type": "code",
      "source": [],
      "metadata": {
        "id": "pMyALO3S30Ru"
      },
      "execution_count": 35,
      "outputs": []
    },
    {
      "cell_type": "markdown",
      "metadata": {
        "id": "Sgw1cWIx0uLQ"
      },
      "source": [
        "2. Añade una función al programa anterior para generar texto aleatorio basado en el análisis de Markov. Para este ejemplo, deja la puntuación adjunta a las palabras. El resultado casi siempre será casi sintácticamente correcto, pero no del todo. Semánticamente, muchas tendrán casi sentido, pero no del todo.<br><br>¿Qué pasa si se aumenta la longitud del prefijo? ¿Tiene más sentido el texto aleatorio?"
      ]
    },
    {
      "cell_type": "code",
      "execution_count": 36,
      "metadata": {
        "id": "_5pVp6EY0uLR"
      },
      "outputs": [],
      "source": [
        "def generar_texto(markov, longitud=100):\n",
        "    prefijo = random.choice(list(markov.keys()))\n",
        "    resultado = list(prefijo)\n",
        "    for _ in range(longitud):\n",
        "        siguiente = random.choice(markov[prefijo])\n",
        "        resultado.append(siguiente)\n",
        "        prefijo = tuple(resultado[-longitud_prefijo:])\n",
        "    return ' '.join(resultado)"
      ]
    },
    {
      "cell_type": "markdown",
      "metadata": {
        "id": "ERQpzSLb0uLR"
      },
      "source": [
        "3. Una vez que tu programa esté funcionando, es posible que desees probar una combinación: si combinas texto de dos o más libros, el texto aleatorio que genere mezclará el vocabulario y las frases de las fuentes de manera interesante. Usa cualquier libro que hayas descargado en formato ASCII.\n",
        "\n",
        "Créditos: Este estudio de caso se basa en un ejemplo de Kernighan y Pike, The Practice of Programming, Addison-Wesley, 1999."
      ]
    },
    {
      "cell_type": "code",
      "execution_count": null,
      "metadata": {
        "id": "-fxGlE9z0uLR"
      },
      "outputs": [],
      "source": [
        "# Ejemplo de uso:\n",
        "# texto_quijote = cargar_texto('quijote.txt')\n",
        "# markov_quijote = analisis_markov(texto_quijote)\n",
        "# texto_generado = generar_texto(markov_quijote)"
      ]
    },
    {
      "cell_type": "markdown",
      "metadata": {
        "id": "LNV3JRLr0uLR"
      },
      "source": [
        "# <font color=olive> Ejercicio P3-10 </font> <span style=\"color:transparent\"> EjP3.10 </span>\n",
        "El \"rango\" de una palabra es su posición en una lista de palabras ordenadas por frecuencia: la palabra más común tiene rango 1, la segunda más común tiene rango 2, etc.\n",
        "\n",
        "La ley de Zipf describe una relación entre los rangos y frecuencias de las palabras en los lenguajes naturales (http://en.wikipedia.org/wiki/Zipf's_law). Específicamente, predice que la frecuencia, f, de la palabra con rango r es:\n",
        "$$f = cr^{-s}$$\n",
        "donde s y c son parámetros que dependen del idioma y del texto. Si tomas el logaritmo de ambos lados de esta ecuación, obtienes:\n",
        "$$ -\\log(f) = \\log(c) -s \\log(r) $$\n",
        "\n",
        "Así que si trazas $log f$ versus $log r$, deberías obtener una línea recta con pendiente $-s$ e interceptar y en $\\log c$.\n",
        "\n",
        "Escribe un programa que lea un texto de un archivo, cuenta las frecuencias de las palabras e imprime una línea para cada palabra, en orden descendente de frecuencia, con log f y log r. Puedes dibujarlos usando las librerías de python matplotlib, plotly o seaborn en este mismo notebook. Comprueba si forman una línea recta. ¿Puedes estimar el valor de s?\n",
        "\n",
        "A continuación tienes las órdenes para instalar estas librerías si no las tienes instaladas."
      ]
    },
    {
      "cell_type": "code",
      "execution_count": 37,
      "metadata": {
        "id": "cu7AWh0t0uLR"
      },
      "outputs": [],
      "source": [
        "import matplotlib.pyplot as plt\n",
        "import numpy as np"
      ]
    },
    {
      "cell_type": "code",
      "source": [
        "#Redefinimos contar_palabras para este caso:\n",
        "\n",
        "def contar_palabras(filename):\n",
        "    word_count = Counter()\n",
        "    with open(filename, 'r') as file:\n",
        "        for line in file:\n",
        "            line = line.translate(str.maketrans('', '', string.punctuation)).lower()\n",
        "            words = line.split()\n",
        "            word_count.update(words)\n",
        "    return word_count\n"
      ],
      "metadata": {
        "id": "Xh7aFjlw4ZMt"
      },
      "execution_count": 40,
      "outputs": []
    },
    {
      "cell_type": "code",
      "source": [
        "def analisis_ley_zipf(archivo):\n",
        "    word_count = contar_palabras(archivo)\n",
        "    frecuencias = sorted(word_count.values(), reverse=True)\n",
        "    rangos = range(1, len(frecuencias) + 1)\n",
        "\n",
        "    # Graficar log(f) vs. log(r)\n",
        "    plt.plot(np.log(rangos), np.log(frecuencias), marker='.', linestyle='none')\n",
        "    plt.xlabel('log(rango)')\n",
        "    plt.ylabel('log(frecuencia)')\n",
        "    plt.title('Análisis de la Ley de Zipf')\n",
        "    plt.show()\n",
        "\n"
      ],
      "metadata": {
        "id": "m1EmTSBV3_kl"
      },
      "execution_count": 42,
      "outputs": []
    },
    {
      "cell_type": "code",
      "source": [
        "analisis_ley_zipf('words.txt')"
      ],
      "metadata": {
        "colab": {
          "base_uri": "https://localhost:8080/",
          "height": 472
        },
        "id": "Dt3uiHlO4I3U",
        "outputId": "c20d6fe3-f43d-4b96-b986-0eae2510f253"
      },
      "execution_count": 43,
      "outputs": [
        {
          "output_type": "display_data",
          "data": {
            "text/plain": [
              "<Figure size 640x480 with 1 Axes>"
            ],
            "image/png": "[encoded data removed]"
          },
          "metadata": {}
        }
      ]
    },
    {
      "cell_type": "markdown",
      "metadata": {
        "id": "7b-rNSeC0uLR"
      },
      "source": [
        "# <font color=red> Copyright </font>\n",
        "\n",
        "$\\copyright$ Copyright 2012 Eloy Anguiano Rey - All rights reserved\n",
        "\n",
        "Queda expresamente prohibida la copia, distribución, modificación o cualquier otro uso de este documento sin permiso del autor."
      ]
    }
  ],
  "metadata": {
    "kernelspec": {
      "display_name": "Python 3.8.10 64-bit",
      "language": "python",
      "name": "python3"
    },
    "language_info": {
      "codemirror_mode": {
        "name": "ipython",
        "version": 3
      },
      "file_extension": ".py",
      "mimetype": "text/x-python",
      "name": "python",
      "nbconvert_exporter": "python",
      "pygments_lexer": "ipython3",
      "version": "3.10.12"
    },
    "vscode": {
      "interpreter": {
        "hash": "916dbcbb3f70747c44a77c7bcd40155683ae19c65e1c03b4aa3499c5328201f1"
      }
    },
    "colab": {
      "provenance": []
    }
  },
  "nbformat": 4,
  "nbformat_minor": 0
}